{
 "cells": [
  {
   "cell_type": "markdown",
   "id": "bbfb82b6-d985-4ba7-be54-46e3b0e3de2a",
   "metadata": {},
   "source": [
    "# Import Modules"
   ]
  },
  {
   "cell_type": "code",
   "execution_count": 1,
   "id": "129aeaee-db71-4835-b188-0f2ee935c56b",
   "metadata": {},
   "outputs": [],
   "source": [
    "from sklearn.decomposition import PCA\n",
    "import pandas as pd\n",
    "import numpy as np\n",
    "from tqdm import tqdm\n",
    "\n",
    "#plotly imports\n",
    "import plotly as py\n",
    "import plotly.express as px\n",
    "import plotly.graph_objs as go"
   ]
  },
  {
   "cell_type": "markdown",
   "id": "086301dc-5cc9-486b-b254-1e6d67f417e7",
   "metadata": {},
   "source": [
    "# Load Encoded Dataset\n",
    "\n",
    "### Encoded dataset : (# samples, 200)"
   ]
  },
  {
   "cell_type": "code",
   "execution_count": 2,
   "id": "ace4aeac-ab45-42fe-8640-374eb34dd521",
   "metadata": {},
   "outputs": [],
   "source": [
    "name_array = np.load(\"./total_data/encoded_vectors_name.npy\")\n",
    "dataset_array = np.load(\"./total_data/encoded_vectors.npy\").reshape(-1,200)"
   ]
  },
  {
   "cell_type": "markdown",
   "id": "8dbc863b-7a83-4f90-9870-1d9218a7d4f4",
   "metadata": {},
   "source": [
    "# Dimension Reduction via TSNE"
   ]
  },
  {
   "cell_type": "markdown",
   "id": "c6c6c4f8-5cbf-40f3-8158-a158b731e1bf",
   "metadata": {},
   "source": [
    "### Make DataFrame for Visualization (Plotly)"
   ]
  },
  {
   "cell_type": "code",
   "execution_count": null,
   "id": "0fb86c4f-1a4f-49a5-a94f-638bc0f9a89c",
   "metadata": {},
   "outputs": [],
   "source": [
    "df_name = pd.DataFrame(name_array); pdName.columns = ['title']\n",
    "df_dataset = pd.DataFrame(dataset_array);\n",
    "\n",
    "tsne_3d = TSNE(n_components=3, init='pca', learning_rate='auto'); \n",
    "TSNEs_3d = pd.DataFrame(tsne_3d.fit_transform(dataset_array))\n",
    "TSNEs_3d.columns = [\"TSNE1_3d\", \"TSNE2_3d\", \"TSNE3_3d\"]\n",
    "\n",
    "df_plot = pd.concat([df_name, TSNEs_3d, df_dataset], axis=1, join='inner')"
   ]
  },
  {
   "cell_type": "markdown",
   "id": "ea43e886-9be4-4f19-9c4f-2946d7ffd244",
   "metadata": {},
   "source": [
    "## Clustering by AgglomerativeClustering"
   ]
  },
  {
   "cell_type": "markdown",
   "id": "32b5ad38-6388-4de8-9bb0-076133c1b935",
   "metadata": {},
   "source": [
    "![image](https://t1.daumcdn.net/cfile/tistory/994B43425AB34B7430)"
   ]
  },
  {
   "cell_type": "code",
   "execution_count": null,
   "id": "e3e47167-fc1c-43c5-87e8-6e16a768ad76",
   "metadata": {},
   "outputs": [],
   "source": [
    "n_clusters_ = 18\n",
    "\n",
    "agg = AgglomerativeClustering(n_clusters_).fit(TSNEs_3d.to_numpy())\n",
    "labels = agg.labels_\n",
    "\n",
    "df_plot[\"Cluster\"] = labels"
   ]
  },
  {
   "cell_type": "markdown",
   "id": "8ca7b9cf-dc2c-4578-b286-18ad2753d41f",
   "metadata": {},
   "source": [
    "## Make Plotly Figure and Saving"
   ]
  },
  {
   "cell_type": "code",
   "execution_count": null,
   "id": "c56d14a7-8943-4853-a056-5da6ec6ac568",
   "metadata": {},
   "outputs": [],
   "source": [
    "trace = []\n",
    "for i in range(n_clusters_):\n",
    "    fig = go.Scatter3d(\n",
    "        x = df_plot[df_plot[\"Cluster\"] == i][\"TSNE1_3d\"],\n",
    "        y = df_plot[df_plot[\"Cluster\"] == i][\"TSNE2_3d\"],\n",
    "        z = df_plot[df_plot[\"Cluster\"] == i][\"TSNE3_3d\"],\n",
    "        mode = \"markers\",\n",
    "        name = f\"Cluster {i}\",\n",
    "        marker = {\"size\": 1, \"color\": i},\n",
    "#         colorscale=\"Viridis\",\n",
    "        text = df_plot[df_plot[\"Cluster\"] == i][\"title\"])\n",
    "    trace.append(fig)\n",
    "\n",
    "# layout\n",
    "title = \"Visualizing Clusters Using TSNE\"\n",
    "\n",
    "layout = dict(title = title,\n",
    "              xaxis= dict(title= 'TSNE1',ticklen= 5,zeroline= False),\n",
    "              yaxis= dict(title= 'TSNE2',ticklen= 5,zeroline= False)\n",
    "             )\n",
    "# save\n",
    "fig = go.Figure(data=trace, layout=layout)\n",
    "\n",
    "\n",
    "fig.write_html(f\"./results/Clustering_TSNE_3D_Agglomerative_{n_clusters_}.html\")"
   ]
  }
 ],
 "metadata": {
  "kernelspec": {
   "display_name": "cuda37",
   "language": "python",
   "name": "cuda37"
  },
  "language_info": {
   "codemirror_mode": {
    "name": "ipython",
    "version": 3
   },
   "file_extension": ".py",
   "mimetype": "text/x-python",
   "name": "python",
   "nbconvert_exporter": "python",
   "pygments_lexer": "ipython3",
   "version": "3.7.11"
  }
 },
 "nbformat": 4,
 "nbformat_minor": 5
}
