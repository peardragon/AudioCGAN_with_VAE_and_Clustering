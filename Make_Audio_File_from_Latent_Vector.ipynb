{
 "cells": [
  {
   "cell_type": "markdown",
   "id": "ca81beae-4d22-4b25-8660-f1812492b096",
   "metadata": {},
   "source": [
    "# Import Modules"
   ]
  },
  {
   "cell_type": "code",
   "execution_count": 12,
   "id": "46bb0905-d557-4866-9de1-48ae54f06de1",
   "metadata": {},
   "outputs": [],
   "source": [
    "import soundfile as sf\n",
    "\n",
    "from models.VAE import Decoder_Linear"
   ]
  },
  {
   "cell_type": "markdown",
   "id": "389fdd36-48f8-432b-9037-3742a7284e8a",
   "metadata": {},
   "source": [
    "# Default Setting & Define Function"
   ]
  },
  {
   "cell_type": "code",
   "execution_count": 10,
   "id": "bd0a2364-aae2-4671-8cb8-ac7ca6e3d07b",
   "metadata": {},
   "outputs": [],
   "source": [
    "class CFG : \n",
    "    \"\"\"\n",
    "    Global parameters are here\n",
    "    \"\"\"\n",
    "    USE_SEC = 4\n",
    "    sample_rate = 44100\n",
    "    n_fft = 2048\n",
    "    hop_length = 256\n",
    "    win_length = 1024\n",
    "    window = \"hann\"\n",
    "    \n",
    "    fmin = 20\n",
    "    fmax = sample_rate // 2\n",
    "    period = 5\n",
    "\n",
    "\n",
    "class AudioParams:\n",
    "    \"\"\"\n",
    "    Parameters used for the audio data\n",
    "    \"\"\"\n",
    "    USE_SEC = CFG.USE_SEC\n",
    "    sr = CFG.sample_rate\n",
    "    duration = CFG.period\n",
    "    n_fft = CFG.n_fft\n",
    "    hop_length = CFG.hop_length\n",
    "    win_length = CFG.win_length\n",
    "    window = CFG.window\n",
    "    \n",
    "    fmin = CFG.fmin\n",
    "    fmax = CFG.fmax\n",
    "    period = CFG.period"
   ]
  },
  {
   "cell_type": "code",
   "execution_count": 11,
   "id": "d24e135b-d565-41d5-ba1c-e7229faba324",
   "metadata": {},
   "outputs": [],
   "source": [
    "def array_to_Audio(path, array, sample_rate) :\n",
    "    \"\"\"\n",
    "    Args :\n",
    "        array (numpy.array) : before using this funcion, you should detach and modify it to numpy array\n",
    "                                   if arr = torch array, you can do this like 'arr.detach().cpu().numpy()'.\n",
    "                                   input array size is (2, sample_rate*USE_SEC)\n",
    "        path (str) : path to save wav file\n",
    "        sample_rate (int) : wav-encoding sampling rate(44100, 48000, etc...). \n",
    "                                it is recommended that assgin same value with what you used at Audio_to_array function. \n",
    "    Return : None. New wav file will be saved at path that you assign to this function.\n",
    "    \"\"\"\n",
    "    sf.write(file=path, data=array, samplerate=sample_rate, format='WAV')"
   ]
  },
  {
   "cell_type": "markdown",
   "id": "c78071bb-b170-4ba4-afbf-1ce09e43cd36",
   "metadata": {},
   "source": [
    "# Load Generated (From GAN) Array"
   ]
  },
  {
   "cell_type": "code",
   "execution_count": 23,
   "id": "2ca0d12a-ce6c-469b-b890-f15659a73a2d",
   "metadata": {},
   "outputs": [
    {
     "data": {
      "text/plain": [
       "(100, 1, 200)"
      ]
     },
     "execution_count": 23,
     "metadata": {},
     "output_type": "execute_result"
    }
   ],
   "source": [
    "gan_output = np.load(\"./gan_results/gan_output.npy\")\n",
    "gan_output.shape"
   ]
  },
  {
   "cell_type": "markdown",
   "id": "b85c1356-37dc-43a2-93c7-73ea0b92377d",
   "metadata": {},
   "source": [
    "## Pass the Decoder"
   ]
  },
  {
   "cell_type": "code",
   "execution_count": 21,
   "id": "ba7754b1-1b38-4d23-a180-34874d9ba96c",
   "metadata": {},
   "outputs": [
    {
     "data": {
      "text/plain": [
       "<All keys matched successfully>"
      ]
     },
     "execution_count": 21,
     "metadata": {},
     "output_type": "execute_result"
    }
   ],
   "source": [
    "decoder = Decoder_Linear()\n",
    "decoder.load_state_dict(torch.load(\"./decoder/epoch_39_decoder.pt\"))"
   ]
  },
  {
   "cell_type": "code",
   "execution_count": null,
   "id": "6d5282b7-a8a9-485c-860a-7a1552cfff69",
   "metadata": {},
   "outputs": [],
   "source": [
    "input = torch.Tensor(gan_output)\n",
    "output = decoder(input)"
   ]
  },
  {
   "cell_type": "code",
   "execution_count": null,
   "id": "ff6ff81f-edf3-4ca3-b518-db35fdaaa568",
   "metadata": {},
   "outputs": [],
   "source": [
    "array_to_Audio('./generated_audio/results', output[0])"
   ]
  }
 ],
 "metadata": {
  "kernelspec": {
   "display_name": "cuda37",
   "language": "python",
   "name": "cuda37"
  },
  "language_info": {
   "codemirror_mode": {
    "name": "ipython",
    "version": 3
   },
   "file_extension": ".py",
   "mimetype": "text/x-python",
   "name": "python",
   "nbconvert_exporter": "python",
   "pygments_lexer": "ipython3",
   "version": "3.7.11"
  }
 },
 "nbformat": 4,
 "nbformat_minor": 5
}
